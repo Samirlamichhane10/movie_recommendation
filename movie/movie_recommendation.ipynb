{
  "nbformat": 4,
  "nbformat_minor": 0,
  "metadata": {
    "colab": {
      "provenance": [],
      "mount_file_id": "https://github.com/Samirlamichhane10/movie_recommendation/blob/main/movie/movie_recommendation.ipynb",
      "authorship_tag": "ABX9TyP+xoTSZEuxY4Mk+Ta9PqOP",
      "include_colab_link": true
    },
    "kernelspec": {
      "name": "python3",
      "display_name": "Python 3"
    },
    "language_info": {
      "name": "python"
    }
  },
  "cells": [
    {
      "cell_type": "markdown",
      "metadata": {
        "id": "view-in-github",
        "colab_type": "text"
      },
      "source": [
        "<a href=\"https://colab.research.google.com/github/Samirlamichhane10/movie_recommendation/blob/main/movie/movie_recommendation.ipynb\" target=\"_parent\"><img src=\"https://colab.research.google.com/assets/colab-badge.svg\" alt=\"Open In Colab\"/></a>"
      ]
    },
    {
      "cell_type": "code",
      "execution_count": 64,
      "metadata": {
        "id": "QdXS2RpGI7Ue"
      },
      "outputs": [],
      "source": [
        "import numpy as np\n",
        "import pandas as pd\n",
        "import seaborn as sns\n",
        "import matplotlib.pyplot as plt"
      ]
    },
    {
      "cell_type": "code",
      "source": [
        "movies = pd.read_csv('tmdb_5000_movies.csv')\n",
        "credits = pd.read_csv('tmdb_5000_credits.csv')"
      ],
      "metadata": {
        "id": "YNXmSLoA25zm"
      },
      "execution_count": 65,
      "outputs": []
    },
    {
      "cell_type": "code",
      "source": [
        "movies= movies.merge(credits, on='title')"
      ],
      "metadata": {
        "id": "QRrMvzb73BqH"
      },
      "execution_count": 66,
      "outputs": []
    },
    {
      "cell_type": "code",
      "source": [
        "movies.info()"
      ],
      "metadata": {
        "id": "81w45StW3VtY",
        "outputId": "dec25bfa-1bf2-4c42-e3f2-8a2f45c63761",
        "colab": {
          "base_uri": "https://localhost:8080/"
        }
      },
      "execution_count": 67,
      "outputs": [
        {
          "output_type": "stream",
          "name": "stdout",
          "text": [
            "<class 'pandas.core.frame.DataFrame'>\n",
            "RangeIndex: 4809 entries, 0 to 4808\n",
            "Data columns (total 23 columns):\n",
            " #   Column                Non-Null Count  Dtype  \n",
            "---  ------                --------------  -----  \n",
            " 0   budget                4809 non-null   int64  \n",
            " 1   genres                4809 non-null   object \n",
            " 2   homepage              1713 non-null   object \n",
            " 3   id                    4809 non-null   int64  \n",
            " 4   keywords              4809 non-null   object \n",
            " 5   original_language     4809 non-null   object \n",
            " 6   original_title        4809 non-null   object \n",
            " 7   overview              4806 non-null   object \n",
            " 8   popularity            4809 non-null   float64\n",
            " 9   production_companies  4809 non-null   object \n",
            " 10  production_countries  4809 non-null   object \n",
            " 11  release_date          4808 non-null   object \n",
            " 12  revenue               4809 non-null   int64  \n",
            " 13  runtime               4807 non-null   float64\n",
            " 14  spoken_languages      4809 non-null   object \n",
            " 15  status                4809 non-null   object \n",
            " 16  tagline               3965 non-null   object \n",
            " 17  title                 4809 non-null   object \n",
            " 18  vote_average          4809 non-null   float64\n",
            " 19  vote_count            4809 non-null   int64  \n",
            " 20  movie_id              4809 non-null   int64  \n",
            " 21  cast                  4809 non-null   object \n",
            " 22  crew                  4809 non-null   object \n",
            "dtypes: float64(3), int64(5), object(15)\n",
            "memory usage: 864.2+ KB\n"
          ]
        }
      ]
    },
    {
      "cell_type": "code",
      "source": [
        " movies1= movies[['movie_id','title','overview', 'genres', 'keywords', 'cast', 'crew']]"
      ],
      "metadata": {
        "id": "Euj_Ub7D9ciR"
      },
      "execution_count": 68,
      "outputs": []
    },
    {
      "cell_type": "code",
      "source": [
        "movies1.info()"
      ],
      "metadata": {
        "id": "GFz3bTZk-HyD",
        "outputId": "6055134c-bdf6-4004-bab4-6c992bd9c503",
        "colab": {
          "base_uri": "https://localhost:8080/"
        }
      },
      "execution_count": 69,
      "outputs": [
        {
          "output_type": "stream",
          "name": "stdout",
          "text": [
            "<class 'pandas.core.frame.DataFrame'>\n",
            "RangeIndex: 4809 entries, 0 to 4808\n",
            "Data columns (total 7 columns):\n",
            " #   Column    Non-Null Count  Dtype \n",
            "---  ------    --------------  ----- \n",
            " 0   movie_id  4809 non-null   int64 \n",
            " 1   title     4809 non-null   object\n",
            " 2   overview  4806 non-null   object\n",
            " 3   genres    4809 non-null   object\n",
            " 4   keywords  4809 non-null   object\n",
            " 5   cast      4809 non-null   object\n",
            " 6   crew      4809 non-null   object\n",
            "dtypes: int64(1), object(6)\n",
            "memory usage: 263.1+ KB\n"
          ]
        }
      ]
    },
    {
      "cell_type": "code",
      "source": [
        "movies1.iloc[:4].genres"
      ],
      "metadata": {
        "id": "uEA-ugZU-cdt",
        "outputId": "778124f8-d356-4ab5-86ce-180b8983476d",
        "colab": {
          "base_uri": "https://localhost:8080/"
        }
      },
      "execution_count": 86,
      "outputs": [
        {
          "output_type": "execute_result",
          "data": {
            "text/plain": [
              "0    [{\"id\": 28, \"name\": \"Action\"}, {\"id\": 12, \"nam...\n",
              "1    [{\"id\": 12, \"name\": \"Adventure\"}, {\"id\": 14, \"...\n",
              "2    [{\"id\": 28, \"name\": \"Action\"}, {\"id\": 12, \"nam...\n",
              "3    [{\"id\": 28, \"name\": \"Action\"}, {\"id\": 80, \"nam...\n",
              "Name: genres, dtype: object"
            ]
          },
          "metadata": {},
          "execution_count": 86
        }
      ]
    },
    {
      "cell_type": "code",
      "source": [
        "def convert(obj):\n",
        "    L = []\n",
        "    for i in ast.literal_eval(obj):  # ast.literal_evals(obj) , it converts the string list into the list\n",
        "        L.append(i['name'])\n",
        "    return L"
      ],
      "metadata": {
        "id": "50ZOxO0XF7gy"
      },
      "execution_count": 87,
      "outputs": []
    },
    {
      "cell_type": "code",
      "source": [
        "movies1['genres'].apply(convert)"
      ],
      "metadata": {
        "id": "KYytyDEDGtQc",
        "outputId": "dd33cb76-09ad-4d8b-fd8a-abf480336104",
        "colab": {
          "base_uri": "https://localhost:8080/"
        }
      },
      "execution_count": 91,
      "outputs": [
        {
          "output_type": "execute_result",
          "data": {
            "text/plain": [
              "0       [Action, Adventure, Fantasy, Science Fiction]\n",
              "1                        [Adventure, Fantasy, Action]\n",
              "2                          [Action, Adventure, Crime]\n",
              "3                    [Action, Crime, Drama, Thriller]\n",
              "4                [Action, Adventure, Science Fiction]\n",
              "                            ...                      \n",
              "4804                        [Action, Crime, Thriller]\n",
              "4805                                [Comedy, Romance]\n",
              "4806               [Comedy, Drama, Romance, TV Movie]\n",
              "4807                                               []\n",
              "4808                                    [Documentary]\n",
              "Name: genres, Length: 4809, dtype: object"
            ]
          },
          "metadata": {},
          "execution_count": 91
        }
      ]
    },
    {
      "cell_type": "code",
      "source": [],
      "metadata": {
        "id": "bGZrQZ0nPfMl"
      },
      "execution_count": null,
      "outputs": []
    }
  ]
}